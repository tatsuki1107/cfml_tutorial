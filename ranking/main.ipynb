{
 "cells": [
  {
   "cell_type": "code",
   "execution_count": 11,
   "id": "a6c63aa6-cb95-4724-a368-390c1cdfd099",
   "metadata": {
    "tags": []
   },
   "outputs": [],
   "source": [
    "import numpy as np\n",
    "\n",
    "from dataset import SyntheticSlateBanditDataset\n",
    "from policy import gen_eps_greedy"
   ]
  },
  {
   "cell_type": "code",
   "execution_count": 3,
   "id": "1a666045-42ed-479c-b083-6dc08340d886",
   "metadata": {
    "tags": []
   },
   "outputs": [],
   "source": [
    "# settings\n",
    "\n",
    "random_state=12345\n",
    "n_rounds=100\n",
    "dim_context=10\n",
    "n_actions=15\n",
    "len_list=3\n",
    "alpha = np.array([1.,.5,.1])"
   ]
  },
  {
   "cell_type": "code",
   "execution_count": 4,
   "id": "7df8c26b-b3aa-4d02-849d-94d5000024c7",
   "metadata": {
    "tags": []
   },
   "outputs": [],
   "source": [
    "dataset = SyntheticSlateBanditDataset(\n",
    "    n_unique_action=n_actions,\n",
    "    len_list=len_list,\n",
    "    dim_context=dim_context\n",
    ")\n",
    "bandit_feedback = dataset.obtain_batch_bandit_feedback(n_rounds=n_rounds)"
   ]
  },
  {
   "cell_type": "code",
   "execution_count": 5,
   "id": "bde97796-9d0a-429e-80f8-bc5e11aa070c",
   "metadata": {
    "tags": []
   },
   "outputs": [],
   "source": [
    "evaluation_policy = gen_eps_greedy(expected_reward=bandit_feedback['expected_reward'])"
   ]
  },
  {
   "cell_type": "code",
   "execution_count": 6,
   "id": "b6df026b-653e-4fde-ad6f-103441fe8989",
   "metadata": {},
   "outputs": [
    {
     "data": {
      "text/plain": [
       "1.0629651155012334"
      ]
     },
     "execution_count": 6,
     "metadata": {},
     "output_type": "execute_result"
    }
   ],
   "source": [
    "policy_value = dataset.calc_ground_truth_policy_value(\n",
    "    expected_reward=bandit_feedback['expected_reward'],\n",
    "    evaluation_policy=evaluation_policy,\n",
    "    alpha=alpha\n",
    ")\n",
    "policy_value"
   ]
  },
  {
   "cell_type": "code",
   "execution_count": 10,
   "id": "bf84ec69-494f-423f-b06c-fbc62e5d9acb",
   "metadata": {
    "tags": []
   },
   "outputs": [
    {
     "data": {
      "text/plain": [
       "8.358791399895256e+18"
      ]
     },
     "execution_count": 10,
     "metadata": {},
     "output_type": "execute_result"
    }
   ],
   "source": [
    "np.mean((evaluation_policy / bandit_feedback[\"ranking_pi_b\"]).max(1))"
   ]
  }
 ],
 "metadata": {
  "kernelspec": {
   "display_name": "Python 3 (ipykernel)",
   "language": "python",
   "name": "python3"
  },
  "language_info": {
   "codemirror_mode": {
    "name": "ipython",
    "version": 3
   },
   "file_extension": ".py",
   "mimetype": "text/x-python",
   "name": "python",
   "nbconvert_exporter": "python",
   "pygments_lexer": "ipython3",
   "version": "3.9.17"
  }
 },
 "nbformat": 4,
 "nbformat_minor": 5
}
