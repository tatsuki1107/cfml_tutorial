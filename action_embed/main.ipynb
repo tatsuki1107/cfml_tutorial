{
 "cells": [
  {
   "cell_type": "code",
   "execution_count": 15,
   "id": "3778e203-3b47-4bdf-89ef-38c4e2f09866",
   "metadata": {
    "tags": []
   },
   "outputs": [],
   "source": [
    "import numpy as np\n",
    "from obp.utils import softmax\n",
    "\n",
    "from dataset import SyntheticBanditDatasetWithActionEmbeds\n",
    "from estimator import InversePropensityScore as IPS"
   ]
  },
  {
   "cell_type": "code",
   "execution_count": 11,
   "id": "63457765-b06d-43ce-ae24-e95cdfd13749",
   "metadata": {
    "tags": []
   },
   "outputs": [],
   "source": [
    "n_actions=1000\n",
    "dim_context=5\n",
    "n_category=10\n",
    "p_e_a_param_std=1.\n",
    "random_state=12345\n",
    "n_rounds=1000\n",
    "is_category_probabialistic=True\n",
    "return_marginal_pi=True"
   ]
  },
  {
   "cell_type": "code",
   "execution_count": 4,
   "id": "a63d3e5b-07b1-4c17-9e04-3dc0863e625a",
   "metadata": {
    "tags": []
   },
   "outputs": [
    {
     "data": {
      "text/plain": [
       "0.694823794672106"
      ]
     },
     "execution_count": 4,
     "metadata": {},
     "output_type": "execute_result"
    }
   ],
   "source": [
    "# ground truth\n",
    "dataset = SyntheticBanditDatasetWithActionEmbeds(\n",
    "    n_actions=n_actions,\n",
    "    dim_context=dim_context,\n",
    "    n_category=n_category,\n",
    "    is_category_probabialistic=is_category_probabialistic\n",
    ")\n",
    "\n",
    "data = dataset.obtain_batch_bandit_feedback(n_rounds=10000, return_marginal_pi_b=False)\n",
    "evaluation_policy = softmax(\n",
    "    dataset.random_.normal(size=(10000, n_actions))\n",
    ")\n",
    "\n",
    "policy_value = dataset.calc_ground_truth_policy_value(\n",
    "    expected_reward=data[\"expected_reward\"],\n",
    "    evaluation_policy=evaluation_policy\n",
    ")\n",
    "policy_value"
   ]
  },
  {
   "cell_type": "code",
   "execution_count": 12,
   "id": "31016bf0-7514-4d23-9c41-1b3944b38aff",
   "metadata": {
    "tags": []
   },
   "outputs": [],
   "source": [
    "# observed data\n",
    "dataset = SyntheticBanditDatasetWithActionEmbeds(\n",
    "    n_actions=n_actions,\n",
    "    dim_context=dim_context,\n",
    "    n_category=n_category,\n",
    "    is_category_probabialistic=is_category_probabialistic\n",
    ")\n",
    "data = dataset.obtain_batch_bandit_feedback(n_rounds=n_rounds, return_marginal_pi_b=return_marginal_pi)\n",
    "\n",
    "# define \\pi_e\n",
    "evaluation_policy = softmax(\n",
    "    dataset.random_.normal(size=(n_rounds, n_actions))\n",
    ")\n",
    "evaluation_policy_pscore = evaluation_policy[np.arange(n_rounds), data[\"action\"]].copy()\n",
    "\n",
    "marginal_pi_e, marginal_pi_e_pscore = dataset.compute_marginal_probability(\n",
    "    pi=evaluation_policy,\n",
    "    action=data[\"action\"],\n",
    "    p_e_a=data[\"p_e_a\"],\n",
    "    category=data[\"category\"]\n",
    ")"
   ]
  },
  {
   "cell_type": "code",
   "execution_count": 13,
   "id": "7cfc96e8-dcc7-494e-b5ce-8351bba1f70a",
   "metadata": {
    "tags": []
   },
   "outputs": [
    {
     "data": {
      "text/plain": [
       "0.7123163850611358"
      ]
     },
     "execution_count": 13,
     "metadata": {},
     "output_type": "execute_result"
    }
   ],
   "source": [
    "# Conventional IPS\n",
    "mips = IPS(estimator_name=\"IPS\")\n",
    "\n",
    "estimated_policy_value = mips.estimate_policy_value(\n",
    "    reward=data[\"reward\"],\n",
    "    behavior_policy_pscore=data[\"pscore\"],\n",
    "    evaluation_policy_pscore=evaluation_policy_pscore\n",
    ")\n",
    "estimated_policy_value"
   ]
  },
  {
   "cell_type": "code",
   "execution_count": 14,
   "id": "a9e45b0f-f99e-4d98-8e48-1cd4d25d2fe9",
   "metadata": {
    "tags": []
   },
   "outputs": [
    {
     "data": {
      "text/plain": [
       "0.7108472004503967"
      ]
     },
     "execution_count": 14,
     "metadata": {},
     "output_type": "execute_result"
    }
   ],
   "source": [
    "# MIPS\n",
    "mips = IPS(estimator_name=\"MIPS\")\n",
    "\n",
    "estimated_policy_value = mips.estimate_policy_value(\n",
    "    reward=data[\"reward\"],\n",
    "    behavior_policy_pscore=data[\"marginal_pscore\"],\n",
    "    evaluation_policy_pscore=marginal_pi_e_pscore\n",
    ")\n",
    "estimated_policy_value"
   ]
  },
  {
   "cell_type": "code",
   "execution_count": null,
   "id": "8f5d79ac-81f1-4f6a-943f-67c30691140b",
   "metadata": {},
   "outputs": [],
   "source": []
  }
 ],
 "metadata": {
  "kernelspec": {
   "display_name": "Python 3 (ipykernel)",
   "language": "python",
   "name": "python3"
  },
  "language_info": {
   "codemirror_mode": {
    "name": "ipython",
    "version": 3
   },
   "file_extension": ".py",
   "mimetype": "text/x-python",
   "name": "python",
   "nbconvert_exporter": "python",
   "pygments_lexer": "ipython3",
   "version": "3.9.17"
  }
 },
 "nbformat": 4,
 "nbformat_minor": 5
}
