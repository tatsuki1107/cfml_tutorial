{
 "cells": [
  {
   "cell_type": "code",
   "execution_count": 1,
   "id": "0eb84264-545e-41cf-985a-c3c7ecad4ccf",
   "metadata": {
    "tags": []
   },
   "outputs": [],
   "source": [
    "import warnings\n",
    "warnings.filterwarnings('ignore')\n",
    "\n",
    "\n",
    "from obp.policy import Random, BernoulliTS\n",
    "from obp.ope import RegressionModel\n",
    "from sklearn.neural_network import MLPRegressor as MLPR\n",
    "\n",
    "import numpy as np\n",
    "import pandas as pd\n",
    "from tqdm import tqdm\n",
    "\n",
    "from dataset.real import ModifiedZOZOTOWNBanditDataset\n",
    "from ope.regression import PairWiseRegression\n",
    "from ope.estimator import InversePropensityScore as IPS\n",
    "from ope.estimator import MarginalizedIPS as MIPS\n",
    "from ope.estimator import DoublyRobust as DR\n",
    "from ope.estimator import DirectMethod as DM\n",
    "from ope.estimator import OFFCEM\n",
    "from ope.estimator_tuning import SLOPE\n",
    "from ope.meta import OffPolicyEvaluation\n",
    "from ope.importance_weight import marginal_weight_over_embedding_spaces\n",
    "from utils.common import visualize_cdf_of_ralative_error\n",
    "from utils.common import aggregate_simulation_results\n",
    "from utils.lower_bound import estimate_student_t_lower_bound"
   ]
  },
  {
   "cell_type": "code",
   "execution_count": 2,
   "id": "2a7208bd-feb9-4b7a-a85a-d2786fb16ff7",
   "metadata": {
    "tags": []
   },
   "outputs": [],
   "source": [
    "# settings\n",
    "\n",
    "sample_sizes = [3000]\n",
    "\n",
    "n_actions=80\n",
    "len_list=3\n",
    "n_actions_all = n_actions * len_list\n",
    "n_clusters=5\n",
    "random_state=12345\n",
    "n_seeds=100\n",
    "n_cat_dim=4\n",
    "ope_estimators = [\n",
    "    IPS(estimator_name=\"IPS\"),\n",
    "    DM(estimator_name=\"DM\"),\n",
    "    DR(estimator_name=\"DR\"),\n",
    "    OFFCEM(estimator_name=\"OFFCEM\"),\n",
    "    OFFCEM(estimator_name=\"OFFCEM + 1-step reg\"),\n",
    "    OFFCEM(estimator_name=\"OFFCEM + cluster\")\n",
    "]\n",
    "\n",
    "ope_estimators_tune = [\n",
    "    SLOPE(\n",
    "        estimator=MIPS(estimator_name=\"MIPS (true) w/SLOPE\"),\n",
    "        hyper_param=np.arange(n_cat_dim),\n",
    "        param_name=\"action_embed_dim\",\n",
    "        lower_bound_func=estimate_student_t_lower_bound,\n",
    "        weight_func=marginal_weight_over_embedding_spaces,\n",
    "        tuning_method=\"greedy_combination\",\n",
    "        min_combination=1\n",
    "    )\n",
    "]"
   ]
  },
  {
   "cell_type": "code",
   "execution_count": 3,
   "id": "5cd54953-27af-477f-a563-e0590d92a524",
   "metadata": {
    "tags": []
   },
   "outputs": [
    {
     "name": "stderr",
     "output_type": "stream",
     "text": [
      "INFO:obp.dataset.real:When `data_path` is not given, this class downloads the small-sized version of Open Bandit Dataset.\n",
      "INFO:obp.dataset.real:When `data_path` is not given, this class downloads the small-sized version of Open Bandit Dataset.\n",
      "sample_size=3000...: 100% 100/100 [18:57<00:00, 11.37s/it]\n"
     ]
    }
   ],
   "source": [
    "pi_ur = Random(\n",
    "    n_actions=n_actions,\n",
    "    len_list=len_list,\n",
    "    random_state=random_state,\n",
    ")\n",
    "pi_ts = BernoulliTS(\n",
    "    n_actions=n_actions,\n",
    "    len_list=len_list,\n",
    "    random_state=random_state,\n",
    "    is_zozotown_prior=True,\n",
    "    campaign=\"all\",\n",
    ")\n",
    "\n",
    "# calc ground-truth policy value (on-policy)\n",
    "policy_value = ModifiedZOZOTOWNBanditDataset.calc_on_policy_policy_value_estimate(\n",
    "    behavior_policy=\"bts\", campaign=\"all\"\n",
    ")\n",
    "\n",
    "# define a dataset class\n",
    "dataset = ModifiedZOZOTOWNBanditDataset(\n",
    "    behavior_policy=\"random\",\n",
    "    campaign=\"all\",\n",
    "    n_clusters=n_clusters\n",
    ")\n",
    "\n",
    "result_df_list = []\n",
    "for sample_size in sample_sizes:\n",
    "    \n",
    "    pi_b = pi_ur.compute_batch_action_dist(n_rounds=sample_size)\n",
    "    pi_b = pi_b.reshape(sample_size, n_actions * len_list) / len_list\n",
    "\n",
    "    pi_e = pi_ts.compute_batch_action_dist(n_rounds=sample_size)\n",
    "    pi_e = pi_e.reshape(sample_size, n_actions * len_list) / len_list\n",
    "\n",
    "    result_list = []\n",
    "    for seed in tqdm(range(n_seeds), desc=f\"sample_size={sample_size}...\"):\n",
    "\n",
    "        val_data = dataset.sample_bootstrap_bandit_feedback(\n",
    "            sample_size=sample_size,\n",
    "            random_state=seed\n",
    "        )\n",
    "        val_data[\"pi_b\"] = pi_b\n",
    "\n",
    "        # off policy evaluation\n",
    "        ope = OffPolicyEvaluation(\n",
    "            bandit_feedback=val_data,\n",
    "            ope_estimators=ope_estimators,\n",
    "            ope_estimators_tune=ope_estimators_tune\n",
    "        )\n",
    "        \n",
    "        ## train_reward_via_two_stage\n",
    "        ### 1st-stage\n",
    "        pairwise_model = PairWiseRegression(\n",
    "            dim_context=val_data[\"dim_context\"],\n",
    "            n_actions=n_actions_all,\n",
    "            n_clusters=n_clusters,\n",
    "            hidden_layer_size=(10, 10, 10),\n",
    "            learning_rate_init=0.1,\n",
    "            max_iter=10,\n",
    "            #verbose=True\n",
    "        )\n",
    "        h_hat = pairwise_model.fit_predict(bandit_data=val_data)\n",
    "        \n",
    "        ### 2nd-stage\n",
    "        reward = val_data[\"reward\"]\n",
    "        reward_residual = reward - h_hat[np.arange(sample_size), val_data[\"action\"]]\n",
    "        cluster, phi_x_a = val_data[\"cluster\"], val_data[\"phi_x_a\"]\n",
    "\n",
    "        reg_model = RegressionModel(\n",
    "            n_actions=n_clusters,\n",
    "            action_context=np.eye(n_clusters),\n",
    "            base_model=MLPR(\n",
    "                hidden_layer_sizes=(10, 10, 10), \n",
    "                max_iter=10, \n",
    "                random_state=12345, \n",
    "                #verbose=True,\n",
    "                learning_rate_init=0.1,\n",
    "            )\n",
    "        )\n",
    "\n",
    "        g_hat = reg_model.fit_predict(\n",
    "            context=val_data[\"context\"],\n",
    "            action=cluster,\n",
    "            reward=reward_residual\n",
    "        )[:, :, 0]\n",
    "\n",
    "        f_hat_x_a_e = h_hat + g_hat[np.arange(sample_size)[:, None], phi_x_a]\n",
    "        \n",
    "        ## one-step reward regression\n",
    "        reg_model = RegressionModel(\n",
    "            n_actions=n_actions_all,\n",
    "            action_context=val_data[\"action_context_one_hot\"],\n",
    "            base_model=MLPR(\n",
    "                hidden_layer_sizes=(10, 10, 10), \n",
    "                max_iter=10, \n",
    "                random_state=12345, \n",
    "                #verbose=True,\n",
    "                learning_rate_init=0.1,\n",
    "            )\n",
    "        )\n",
    "        q_hat_x_a = reg_model.fit_predict(\n",
    "            context=val_data[\"context\"],\n",
    "            action=val_data[\"action\"],\n",
    "            reward=val_data[\"reward\"],\n",
    "        )[:, :, 0]\n",
    "        \n",
    "        q_hat_dict = {\n",
    "            \"DM\": q_hat_x_a,\n",
    "            \"DR\": q_hat_x_a,\n",
    "            \"OFFCEM\": f_hat_x_a_e,\n",
    "            \"OFFCEM + 1-step reg\": q_hat_x_a,\n",
    "            \"OFFCEM + cluster\": np.zeros_like(q_hat_x_a),\n",
    "        }\n",
    "        \n",
    "        \n",
    "        estimated_policy_values = ope.estimate_policy_values(action_dist=pi_e, estimated_rewards=q_hat_dict)\n",
    "\n",
    "        result_list.append(estimated_policy_values)\n",
    "\n",
    "    # calculate MSE\n",
    "    result_df = aggregate_simulation_results(\n",
    "        simulation_result_list=result_list,\n",
    "        policy_value=policy_value,\n",
    "        x_value=sample_size\n",
    "    )\n",
    "    result_df_list.append(result_df)\n",
    "        \n",
    "result_df = pd.concat(result_df_list).reset_index(level=0)"
   ]
  },
  {
   "cell_type": "code",
   "execution_count": 4,
   "id": "017131a0-6fcc-4384-966b-c39d9f498d5b",
   "metadata": {
    "tags": []
   },
   "outputs": [
    {
     "data": {
      "image/png": "[encoded data removed]",
      "text/plain": [
       "<Figure size 1200x700 with 1 Axes>"
      ]
     },
     "metadata": {},
     "output_type": "display_data"
    }
   ],
   "source": [
    "### CDF of relative SE ###\n",
    "sample_size_mask = (result_df[\"x\"] == 3000)\n",
    "rel_result_df = result_df[sample_size_mask].copy()\n",
    "\n",
    "visualize_cdf_of_ralative_error(rel_result_df, baseline=\"IPS\")"
   ]
  },
  {
   "cell_type": "code",
   "execution_count": 5,
   "id": "9a29684e-220a-4b00-bcdf-db9f94bf8e4e",
   "metadata": {
    "tags": []
   },
   "outputs": [
    {
     "data": {
      "text/plain": [
       "{0}"
      ]
     },
     "execution_count": 5,
     "metadata": {},
     "output_type": "execute_result"
    }
   ],
   "source": [
    "ope.ope_estimators_tune[0].best_param"
   ]
  },
  {
   "cell_type": "code",
   "execution_count": 6,
   "id": "0eeae458-4970-4ea9-ab0d-2bb6e6e2bdfa",
   "metadata": {
    "tags": []
   },
   "outputs": [
    {
     "data": {
      "text/plain": [
       "0.0042"
      ]
     },
     "execution_count": 6,
     "metadata": {},
     "output_type": "execute_result"
    }
   ],
   "source": [
    "policy_value"
   ]
  },
  {
   "cell_type": "code",
   "execution_count": 7,
   "id": "90471c3d-94ce-4897-9e2c-9e4c64d53071",
   "metadata": {
    "tags": []
   },
   "outputs": [
    {
     "data": {
      "text/html": [
       "<div>\n",
       "<style scoped>\n",
       "    .dataframe tbody tr th:only-of-type {\n",
       "        vertical-align: middle;\n",
       "    }\n",
       "\n",
       "    .dataframe tbody tr th {\n",
       "        vertical-align: top;\n",
       "    }\n",
       "\n",
       "    .dataframe thead th {\n",
       "        text-align: right;\n",
       "    }\n",
       "</style>\n",
       "<table border=\"1\" class=\"dataframe\">\n",
       "  <thead>\n",
       "    <tr style=\"text-align: right;\">\n",
       "      <th></th>\n",
       "      <th></th>\n",
       "      <th>value</th>\n",
       "    </tr>\n",
       "    <tr>\n",
       "      <th>estimator</th>\n",
       "      <th>x</th>\n",
       "      <th></th>\n",
       "    </tr>\n",
       "  </thead>\n",
       "  <tbody>\n",
       "    <tr>\n",
       "      <th>DM</th>\n",
       "      <th>3000</th>\n",
       "      <td>0.004972</td>\n",
       "    </tr>\n",
       "    <tr>\n",
       "      <th>DR</th>\n",
       "      <th>3000</th>\n",
       "      <td>0.004531</td>\n",
       "    </tr>\n",
       "    <tr>\n",
       "      <th>IPS</th>\n",
       "      <th>3000</th>\n",
       "      <td>0.001185</td>\n",
       "    </tr>\n",
       "    <tr>\n",
       "      <th>MIPS (true) w/SLOPE</th>\n",
       "      <th>3000</th>\n",
       "      <td>0.004124</td>\n",
       "    </tr>\n",
       "    <tr>\n",
       "      <th>OFFCEM</th>\n",
       "      <th>3000</th>\n",
       "      <td>0.004041</td>\n",
       "    </tr>\n",
       "    <tr>\n",
       "      <th>OFFCEM + 1-step reg</th>\n",
       "      <th>3000</th>\n",
       "      <td>0.003749</td>\n",
       "    </tr>\n",
       "    <tr>\n",
       "      <th>OFFCEM + cluster</th>\n",
       "      <th>3000</th>\n",
       "      <td>0.003660</td>\n",
       "    </tr>\n",
       "  </tbody>\n",
       "</table>\n",
       "</div>"
      ],
      "text/plain": [
       "                             value\n",
       "estimator           x             \n",
       "DM                  3000  0.004972\n",
       "DR                  3000  0.004531\n",
       "IPS                 3000  0.001185\n",
       "MIPS (true) w/SLOPE 3000  0.004124\n",
       "OFFCEM              3000  0.004041\n",
       "OFFCEM + 1-step reg 3000  0.003749\n",
       "OFFCEM + cluster    3000  0.003660"
      ]
     },
     "execution_count": 7,
     "metadata": {},
     "output_type": "execute_result"
    }
   ],
   "source": [
    "result_df.groupby([\"estimator\", \"x\"]).agg({\"value\": \"mean\"})"
   ]
  },
  {
   "cell_type": "code",
   "execution_count": 8,
   "id": "f6b26118-7825-4a7d-b76a-0f233a878f58",
   "metadata": {
    "tags": []
   },
   "outputs": [
    {
     "data": {
      "text/html": [
       "<div>\n",
       "<style scoped>\n",
       "    .dataframe tbody tr th:only-of-type {\n",
       "        vertical-align: middle;\n",
       "    }\n",
       "\n",
       "    .dataframe tbody tr th {\n",
       "        vertical-align: top;\n",
       "    }\n",
       "\n",
       "    .dataframe thead th {\n",
       "        text-align: right;\n",
       "    }\n",
       "</style>\n",
       "<table border=\"1\" class=\"dataframe\">\n",
       "  <thead>\n",
       "    <tr style=\"text-align: right;\">\n",
       "      <th></th>\n",
       "      <th></th>\n",
       "      <th>bias</th>\n",
       "    </tr>\n",
       "    <tr>\n",
       "      <th>estimator</th>\n",
       "      <th>x</th>\n",
       "      <th></th>\n",
       "    </tr>\n",
       "  </thead>\n",
       "  <tbody>\n",
       "    <tr>\n",
       "      <th>DM</th>\n",
       "      <th>3000</th>\n",
       "      <td>3.554877e-13</td>\n",
       "    </tr>\n",
       "    <tr>\n",
       "      <th>DR</th>\n",
       "      <th>3000</th>\n",
       "      <td>1.196352e-14</td>\n",
       "    </tr>\n",
       "    <tr>\n",
       "      <th>IPS</th>\n",
       "      <th>3000</th>\n",
       "      <td>8.261485e-11</td>\n",
       "    </tr>\n",
       "    <tr>\n",
       "      <th>MIPS (true) w/SLOPE</th>\n",
       "      <th>3000</th>\n",
       "      <td>3.329608e-17</td>\n",
       "    </tr>\n",
       "    <tr>\n",
       "      <th>OFFCEM</th>\n",
       "      <th>3000</th>\n",
       "      <td>6.441062e-16</td>\n",
       "    </tr>\n",
       "    <tr>\n",
       "      <th>OFFCEM + 1-step reg</th>\n",
       "      <th>3000</th>\n",
       "      <td>4.128114e-14</td>\n",
       "    </tr>\n",
       "    <tr>\n",
       "      <th>OFFCEM + cluster</th>\n",
       "      <th>3000</th>\n",
       "      <td>8.514927e-14</td>\n",
       "    </tr>\n",
       "  </tbody>\n",
       "</table>\n",
       "</div>"
      ],
      "text/plain": [
       "                                  bias\n",
       "estimator           x                 \n",
       "DM                  3000  3.554877e-13\n",
       "DR                  3000  1.196352e-14\n",
       "IPS                 3000  8.261485e-11\n",
       "MIPS (true) w/SLOPE 3000  3.329608e-17\n",
       "OFFCEM              3000  6.441062e-16\n",
       "OFFCEM + 1-step reg 3000  4.128114e-14\n",
       "OFFCEM + cluster    3000  8.514927e-14"
      ]
     },
     "execution_count": 8,
     "metadata": {},
     "output_type": "execute_result"
    }
   ],
   "source": [
    "result_df.groupby([\"estimator\", \"x\"]).agg({\"bias\": \"mean\"}) ** 2"
   ]
  },
  {
   "cell_type": "code",
   "execution_count": 9,
   "id": "72916980-7e4d-40ae-b20a-72507857468d",
   "metadata": {},
   "outputs": [],
   "source": [
    "# OFFCEM achieved the lowest bias compared to other OFFCEM ablations."
   ]
  },
  {
   "cell_type": "code",
   "execution_count": 10,
   "id": "4ad37d20-634d-4850-af90-efc4c5461bb1",
   "metadata": {
    "tags": []
   },
   "outputs": [
    {
     "data": {
      "text/html": [
       "<div>\n",
       "<style scoped>\n",
       "    .dataframe tbody tr th:only-of-type {\n",
       "        vertical-align: middle;\n",
       "    }\n",
       "\n",
       "    .dataframe tbody tr th {\n",
       "        vertical-align: top;\n",
       "    }\n",
       "\n",
       "    .dataframe thead th {\n",
       "        text-align: right;\n",
       "    }\n",
       "</style>\n",
       "<table border=\"1\" class=\"dataframe\">\n",
       "  <thead>\n",
       "    <tr style=\"text-align: right;\">\n",
       "      <th></th>\n",
       "      <th></th>\n",
       "      <th>value</th>\n",
       "    </tr>\n",
       "    <tr>\n",
       "      <th>estimator</th>\n",
       "      <th>x</th>\n",
       "      <th></th>\n",
       "    </tr>\n",
       "  </thead>\n",
       "  <tbody>\n",
       "    <tr>\n",
       "      <th>DM</th>\n",
       "      <th>3000</th>\n",
       "      <td>2.948101e-05</td>\n",
       "    </tr>\n",
       "    <tr>\n",
       "      <th>DR</th>\n",
       "      <th>3000</th>\n",
       "      <td>1.491176e-05</td>\n",
       "    </tr>\n",
       "    <tr>\n",
       "      <th>IPS</th>\n",
       "      <th>3000</th>\n",
       "      <td>3.986476e-07</td>\n",
       "    </tr>\n",
       "    <tr>\n",
       "      <th>MIPS (true) w/SLOPE</th>\n",
       "      <th>3000</th>\n",
       "      <td>1.816919e-06</td>\n",
       "    </tr>\n",
       "    <tr>\n",
       "      <th>OFFCEM</th>\n",
       "      <th>3000</th>\n",
       "      <td>1.551276e-05</td>\n",
       "    </tr>\n",
       "    <tr>\n",
       "      <th>OFFCEM + 1-step reg</th>\n",
       "      <th>3000</th>\n",
       "      <td>1.384133e-06</td>\n",
       "    </tr>\n",
       "    <tr>\n",
       "      <th>OFFCEM + cluster</th>\n",
       "      <th>3000</th>\n",
       "      <td>1.288960e-06</td>\n",
       "    </tr>\n",
       "  </tbody>\n",
       "</table>\n",
       "</div>"
      ],
      "text/plain": [
       "                                 value\n",
       "estimator           x                 \n",
       "DM                  3000  2.948101e-05\n",
       "DR                  3000  1.491176e-05\n",
       "IPS                 3000  3.986476e-07\n",
       "MIPS (true) w/SLOPE 3000  1.816919e-06\n",
       "OFFCEM              3000  1.551276e-05\n",
       "OFFCEM + 1-step reg 3000  1.384133e-06\n",
       "OFFCEM + cluster    3000  1.288960e-06"
      ]
     },
     "execution_count": 10,
     "metadata": {},
     "output_type": "execute_result"
    }
   ],
   "source": [
    "result_df.groupby([\"estimator\", \"x\"]).agg({\"value\": \"var\"})"
   ]
  },
  {
   "cell_type": "code",
   "execution_count": 11,
   "id": "16ff488b-51fe-4372-bf54-be7f04b13757",
   "metadata": {},
   "outputs": [
    {
     "data": {
      "text/plain": [
       "{('DM', 3000): 2.9782428713538537e-05,\n",
       " ('DR', 3000): 1.4872015971987077e-05,\n",
       " ('IPS', 3000): 9.483932067318518e-06,\n",
       " ('MIPS (true) w/SLOPE', 3000): 1.804519758309789e-06,\n",
       " ('OFFCEM', 3000): 1.538301085567413e-05,\n",
       " ('OFFCEM + 1-step reg', 3000): 1.5734691922460306e-06,\n",
       " ('OFFCEM + cluster', 3000): 1.5678734842676008e-06}"
      ]
     },
     "execution_count": 11,
     "metadata": {},
     "output_type": "execute_result"
    }
   ],
   "source": [
    "result_df.groupby([\"estimator\", \"x\"]).agg({\"se\": \"mean\"})[\"se\"].to_dict()"
   ]
  },
  {
   "cell_type": "code",
   "execution_count": 12,
   "id": "9e2dec5b-0435-4a40-a2d8-35a34f87a6ac",
   "metadata": {
    "tags": []
   },
   "outputs": [],
   "source": [
    "# \"OFFCEM + cluster\" achieved the lowest MSE and highest probability compared to other estimators\n",
    "# because rewards are binary and then \"OFFCEM + cluster\" maintain the low bias "
   ]
  }
 ],
 "metadata": {
  "kernelspec": {
   "display_name": "Python 3 (ipykernel)",
   "language": "python",
   "name": "python3"
  },
  "language_info": {
   "codemirror_mode": {
    "name": "ipython",
    "version": 3
   },
   "file_extension": ".py",
   "mimetype": "text/x-python",
   "name": "python",
   "nbconvert_exporter": "python",
   "pygments_lexer": "ipython3",
   "version": "3.9.17"
  }
 },
 "nbformat": 4,
 "nbformat_minor": 5
}
