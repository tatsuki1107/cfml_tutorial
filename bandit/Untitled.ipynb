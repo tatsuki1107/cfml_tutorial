{
 "cells": [
  {
   "cell_type": "markdown",
   "id": "8bfc6217-cc60-4630-a3c8-e6f1cd3bab30",
   "metadata": {},
   "source": [
    "# MFが収集したデータを半人工的に生成"
   ]
  },
  {
   "cell_type": "code",
   "execution_count": 1,
   "id": "46936fb6-f4d7-4cfa-9267-af4edd371d52",
   "metadata": {
    "tags": []
   },
   "outputs": [
    {
     "name": "stderr",
     "output_type": "stream",
     "text": [
      "/usr/local/lib/python3.9/site-packages/tqdm/auto.py:21: TqdmWarning: IProgress not found. Please update jupyter and ipywidgets. See https://ipywidgets.readthedocs.io/en/stable/user_install.html\n",
      "  from .autonotebook import tqdm as notebook_tqdm\n"
     ]
    }
   ],
   "source": [
    "from obp.dataset import OpenBanditDataset\n",
    "from obp.utils import softmax, sample_action_fast\n",
    "import numpy as np\n",
    "import matplotlib.pyplot as plt"
   ]
  },
  {
   "cell_type": "code",
   "execution_count": 2,
   "id": "c59cf5e7-4e14-43d7-831b-7e59f9acbdca",
   "metadata": {
    "tags": []
   },
   "outputs": [
    {
     "name": "stderr",
     "output_type": "stream",
     "text": [
      "INFO:obp.dataset.real:When `data_path` is not given, this class downloads the small-sized version of Open Bandit Dataset.\n"
     ]
    }
   ],
   "source": [
    "dataset = OpenBanditDataset(\n",
    "    behavior_policy=\"random\",\n",
    "    campaign=\"all\"\n",
    ")\n",
    "bandit_data = dataset.obtain_batch_bandit_feedback()"
   ]
  },
  {
   "cell_type": "code",
   "execution_count": 3,
   "id": "d1a4faf0-f90f-445a-97e8-2c50a825cb0d",
   "metadata": {
    "tags": []
   },
   "outputs": [],
   "source": [
    "# create user cluster using context\n",
    "\n",
    "contexts = []\n",
    "for context in bandit_data[\"context\"]:\n",
    "    contexts.append(tuple(context.tolist()))\n",
    "\n",
    "contexts_2id = dict()\n",
    "for i, context in enumerate(set(contexts)):\n",
    "    contexts_2id[context] = i\n",
    "\n",
    "clusters = []\n",
    "for context in contexts:\n",
    "    clusters.append(contexts_2id[context])\n",
    "\n",
    "bandit_data[\"user_cluster\"] = np.array(clusters)\n",
    "bandit_data[\"n_user_clusters\"] = len(contexts_2id)"
   ]
  },
  {
   "cell_type": "code",
   "execution_count": 4,
   "id": "c4b4e1cd-df97-4261-bace-d0408b2bd9c3",
   "metadata": {
    "tags": []
   },
   "outputs": [],
   "source": [
    "from dataclasses import dataclass\n",
    "import torch\n",
    "import torch.nn as nn\n",
    "import torch.optim as optim\n",
    "\n",
    "\n",
    "@dataclass(unsafe_hash=True)\n",
    "class MatrixFactorization(nn.Module):\n",
    "    n_users: int\n",
    "    n_items: int\n",
    "    n_factors: int\n",
    "    \n",
    "    def __post_init__(self) -> None:\n",
    "        super().__init__()\n",
    "        \n",
    "        self.P = nn.Embedding(self.n_users, self.n_factors)\n",
    "        self.Q = nn.Embedding(self.n_items, self.n_factors)\n",
    "    \n",
    "    def forward(self, user, item):\n",
    "        return torch.sum(self.P(user) * self.Q(item), dim=1)"
   ]
  },
  {
   "cell_type": "code",
   "execution_count": 18,
   "id": "463021c9-656d-434a-aa5d-d22918c83fcb",
   "metadata": {
    "tags": []
   },
   "outputs": [],
   "source": [
    "model = MatrixFactorization(\n",
    "    n_users=bandit_data[\"n_user_clusters\"], \n",
    "    n_items=bandit_data[\"n_actions\"], \n",
    "    n_factors=10, \n",
    ")\n",
    "\n",
    "mse_loss_func = nn.MSELoss()\n",
    "optimizer = optim.SGD(model.parameters(), lr=0.1, weight_decay=0.5)\n",
    "\n",
    "users = torch.LongTensor(bandit_data[\"user_cluster\"])\n",
    "items = torch.LongTensor(bandit_data[\"action\"])\n",
    "ratings = torch.FloatTensor(bandit_data[\"reward\"])\n",
    "\n",
    "losses = []\n",
    "for epoch in range(100):\n",
    "    optimizer.zero_grad()\n",
    "    outputs = model(users, items)\n",
    "    loss = mse_loss_func(outputs, ratings)\n",
    "    loss.backward()\n",
    "    optimizer.step()\n",
    "    \n",
    "    losses.append(loss.item())"
   ]
  },
  {
   "cell_type": "code",
   "execution_count": 19,
   "id": "6df9fc1b-0358-4d50-9077-56e58edd310b",
   "metadata": {
    "tags": []
   },
   "outputs": [
    {
     "data": {
      "image/png": "[encoded data removed]",
      "text/plain": [
       "<Figure size 640x480 with 1 Axes>"
      ]
     },
     "metadata": {},
     "output_type": "display_data"
    }
   ],
   "source": [
    "plt.plot(losses, label=f\"last: {losses[-1]}\")\n",
    "plt.legend()\n",
    "plt.show()"
   ]
  },
  {
   "cell_type": "code",
   "execution_count": 20,
   "id": "f788c38a-7032-4d1d-87d2-f3b543cb61be",
   "metadata": {
    "tags": []
   },
   "outputs": [],
   "source": [
    "items_ = torch.arange(bandit_data[\"n_actions\"])\n",
    "behavior_policy_logit = []\n",
    "for user in users:\n",
    "    pi_b_logit_ = model(user, items_).detach().numpy()\n",
    "    behavior_policy_logit.append(pi_b_logit_)\n",
    "\n",
    "behavior_policy_logit = np.array(behavior_policy_logit)\n",
    "tau=1.0\n",
    "action_dist = softmax(behavior_policy_logit) / tau"
   ]
  },
  {
   "cell_type": "code",
   "execution_count": 21,
   "id": "695bb852-f4d0-48c2-9ece-667b69fe2dc3",
   "metadata": {
    "tags": []
   },
   "outputs": [],
   "source": [
    "selected_actions = sample_action_fast(action_dist)"
   ]
  },
  {
   "cell_type": "code",
   "execution_count": 22,
   "id": "c3d6c6e1-bcc7-4346-8d83-8dc716727e3e",
   "metadata": {
    "tags": []
   },
   "outputs": [],
   "source": [
    "indicator = bandit_data[\"action\"] == selected_actions"
   ]
  },
  {
   "cell_type": "code",
   "execution_count": 23,
   "id": "48db900e-dc26-4b9f-8fe4-cf20a5258462",
   "metadata": {
    "tags": []
   },
   "outputs": [
    {
     "data": {
      "text/plain": [
       "(array([False,  True]), array([9849,  151]))"
      ]
     },
     "execution_count": 23,
     "metadata": {},
     "output_type": "execute_result"
    }
   ],
   "source": [
    "np.unique(indicator, return_counts=True)"
   ]
  },
  {
   "cell_type": "code",
   "execution_count": 24,
   "id": "572b9e51-454a-4fbd-b72e-d318517f400a",
   "metadata": {
    "tags": []
   },
   "outputs": [
    {
     "data": {
      "text/plain": [
       "0.0038"
      ]
     },
     "execution_count": 24,
     "metadata": {},
     "output_type": "execute_result"
    }
   ],
   "source": [
    "bandit_data[\"reward\"].mean()"
   ]
  },
  {
   "cell_type": "code",
   "execution_count": 25,
   "id": "c15737cd-9851-4c65-a8a5-d334ba1d9c37",
   "metadata": {
    "tags": []
   },
   "outputs": [
    {
     "data": {
      "text/plain": [
       "0.006622516556291391"
      ]
     },
     "execution_count": 25,
     "metadata": {},
     "output_type": "execute_result"
    }
   ],
   "source": [
    "bandit_data[\"reward\"][indicator].mean()"
   ]
  },
  {
   "cell_type": "code",
   "execution_count": 27,
   "id": "cb8e3ba7-8aa9-4cb8-aea4-0f07ce64fde3",
   "metadata": {
    "tags": []
   },
   "outputs": [
    {
     "data": {
      "text/plain": [
       "0.0151"
      ]
     },
     "execution_count": 27,
     "metadata": {},
     "output_type": "execute_result"
    }
   ],
   "source": [
    "151 / 10000"
   ]
  },
  {
   "cell_type": "code",
   "execution_count": 28,
   "id": "dd04d56e-59a5-461e-8f7c-d1af5e0568c0",
   "metadata": {
    "tags": []
   },
   "outputs": [
    {
     "data": {
      "text/plain": [
       "20752"
      ]
     },
     "execution_count": 28,
     "metadata": {},
     "output_type": "execute_result"
    }
   ],
   "source": [
    "int(1374327 * 0.0151)"
   ]
  },
  {
   "cell_type": "code",
   "execution_count": 15,
   "id": "c024ac67-6285-4c0e-bd27-5b2025921d18",
   "metadata": {
    "tags": []
   },
   "outputs": [],
   "source": [
    "# フルデータでやると2万レコードは取れそう。MFが生成したデータとして"
   ]
  }
 ],
 "metadata": {
  "kernelspec": {
   "display_name": "Python 3 (ipykernel)",
   "language": "python",
   "name": "python3"
  },
  "language_info": {
   "codemirror_mode": {
    "name": "ipython",
    "version": 3
   },
   "file_extension": ".py",
   "mimetype": "text/x-python",
   "name": "python",
   "nbconvert_exporter": "python",
   "pygments_lexer": "ipython3",
   "version": "3.9.17"
  }
 },
 "nbformat": 4,
 "nbformat_minor": 5
}
